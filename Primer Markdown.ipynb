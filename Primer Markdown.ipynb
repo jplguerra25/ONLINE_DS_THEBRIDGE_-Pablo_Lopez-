{
 "cells": [
  {
   "cell_type": "markdown",
   "id": "c368c31c-2133-4791-9cb5-15a4ac54d945",
   "metadata": {},
   "source": [
    "## Mis primeros pasos con Markdown\n",
    "..son muy buenos"
   ]
  },
  {
   "cell_type": "markdown",
   "id": "446a98be-3f09-4f75-ba47-9551b073565c",
   "metadata": {},
   "source": [
    "# Cabecera 1\n",
    "## Cabecera 2 "
   ]
  },
  {
   "cell_type": "markdown",
   "id": "7700f99c-550d-4aeb-abe6-54af0f9ef3e4",
   "metadata": {},
   "source": [
    "### Cabecera 3 \n",
    "#### Cabecera 4 "
   ]
  },
  {
   "cell_type": "markdown",
   "id": "916aaec5-8fc0-44a8-9776-6cbff2d89ca8",
   "metadata": {},
   "source": [
    "##### Cabecera 5\n",
    "###### Cabecera 6 "
   ]
  },
  {
   "cell_type": "markdown",
   "id": "59ffb910-ab79-4acb-8e1b-a56575618e25",
   "metadata": {},
   "source": [
    "### **Negrita** \n",
    "### *Cursiva*\n",
    "### ***Negrita y cursiva*** "
   ]
  },
  {
   "cell_type": "markdown",
   "id": "956c4063-2659-4173-87a3-d6001beb6424",
   "metadata": {},
   "source": [
    "> Recuerda la importancia del conocimiento del negocio y del domino\n",
    ">> Y utilizar atajos de teclados "
   ]
  }
 ],
 "metadata": {
  "kernelspec": {
   "display_name": "Python 3 (ipykernel)",
   "language": "python",
   "name": "python3"
  },
  "language_info": {
   "codemirror_mode": {
    "name": "ipython",
    "version": 3
   },
   "file_extension": ".py",
   "mimetype": "text/x-python",
   "name": "python",
   "nbconvert_exporter": "python",
   "pygments_lexer": "ipython3",
   "version": "3.13.2"
  }
 },
 "nbformat": 4,
 "nbformat_minor": 5
}
